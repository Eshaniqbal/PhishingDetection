{
  "nbformat": 4,
  "nbformat_minor": 0,
  "metadata": {
    "colab": {
      "provenance": [],
      "gpuType": "V28",
      "authorship_tag": "ABX9TyPLcPpRNyT4caU9X6Q1DJK9",
      "include_colab_link": true
    },
    "kernelspec": {
      "name": "python3",
      "display_name": "Python 3"
    },
    "language_info": {
      "name": "python"
    },
    "accelerator": "TPU"
  },
  "cells": [
    {
      "cell_type": "markdown",
      "metadata": {
        "id": "view-in-github",
        "colab_type": "text"
      },
      "source": [
        "<a href=\"https://colab.research.google.com/github/Eshaniqbal/PhishingDetection/blob/main/PhishingTest.ipynb\" target=\"_parent\"><img src=\"https://colab.research.google.com/assets/colab-badge.svg\" alt=\"Open In Colab\"/></a>"
      ]
    },
    {
      "cell_type": "code",
      "source": [
        "import pandas as pd\n",
        "from sklearn.model_selection import train_test_split\n",
        "from sklearn.preprocessing import LabelEncoder\n",
        "from sklearn.ensemble import RandomForestClassifier, GradientBoostingClassifier\n",
        "from sklearn.svm import SVC\n",
        "from sklearn.metrics import classification_report, accuracy_score\n",
        "from sklearn.feature_extraction.text import TfidfVectorizer\n",
        "import joblib\n"
      ],
      "metadata": {
        "id": "GiQB49bpDKRc"
      },
      "execution_count": 38,
      "outputs": []
    },
    {
      "cell_type": "code",
      "source": [
        "# Load the dataset\n",
        "data = pd.read_csv('urldata.csv')  # Replace with your actual file path\n",
        "\n",
        "# Encode the labels\n",
        "label_encoder = LabelEncoder()\n",
        "data['label'] = label_encoder.fit_transform(data['label'])\n",
        "\n",
        "# Define features and target variable\n",
        "X = data['url']  # URLs as features\n",
        "y = data['label']\n",
        "\n",
        "# Split the data\n",
        "X_train, X_test, y_train, y_test = train_test_split(\n",
        "    X, y, test_size=0.2, random_state=42, stratify=y)\n"
      ],
      "metadata": {
        "id": "wS6TtgReDfPS"
      },
      "execution_count": 39,
      "outputs": []
    },
    {
      "cell_type": "code",
      "source": [
        "# Apply TF-IDF Vectorization with limited features\n",
        "vectorizer = TfidfVectorizer(max_features=1000)\n",
        "X_train_tfidf = vectorizer.fit_transform(X_train)\n",
        "X_test_tfidf = vectorizer.transform(X_test)\n"
      ],
      "metadata": {
        "id": "KPUjXiH0Dm0w"
      },
      "execution_count": 40,
      "outputs": []
    },
    {
      "cell_type": "code",
      "source": [
        "# Random Forest\n",
        "rf_model = RandomForestClassifier(n_estimators=50, n_jobs=-1, random_state=42)  # Fewer estimators, parallel processing\n",
        "rf_model.fit(X_train_tfidf, y_train)\n",
        "print(\"Random Forest model training complete.\")\n",
        "\n",
        "# Support Vector Machine (using linear kernel for speed)\n",
        "svm_model = SVC(kernel='linear', random_state=42)\n",
        "svm_model.fit(X_train_tfidf, y_train)\n",
        "print(\"SVM model training complete.\")\n",
        "\n",
        "# Gradient Boosting with reduced estimators\n",
        "gb_model = GradientBoostingClassifier(n_estimators=50, random_state=42)  # Reduced iterations\n",
        "gb_model.fit(X_train_tfidf, y_train)\n",
        "print(\"Gradient Boosting model training complete.\")\n"
      ],
      "metadata": {
        "colab": {
          "base_uri": "https://localhost:8080/"
        },
        "id": "Oky00fzcDuht",
        "outputId": "eeb051a0-93fe-4da5-c92a-2340bed35520"
      },
      "execution_count": 41,
      "outputs": [
        {
          "output_type": "stream",
          "name": "stdout",
          "text": [
            "Random Forest model training complete.\n",
            "SVM model training complete.\n",
            "Gradient Boosting model training complete.\n"
          ]
        }
      ]
    },
    {
      "cell_type": "code",
      "source": [
        "# Random Forest Predictions\n",
        "rf_pred = rf_model.predict(X_test_tfidf)\n",
        "rf_accuracy = accuracy_score(y_test, rf_pred)\n",
        "print(\"Random Forest Accuracy:\", rf_accuracy)\n",
        "\n",
        "# SVM Predictions\n",
        "svm_pred = svm_model.predict(X_test_tfidf)\n",
        "svm_accuracy = accuracy_score(y_test, svm_pred)\n",
        "print(\"SVM Accuracy:\", svm_accuracy)\n",
        "\n",
        "# Gradient Boosting Predictions\n",
        "gb_pred = gb_model.predict(X_test_tfidf)\n",
        "gb_accuracy = accuracy_score(y_test, gb_pred)\n",
        "print(\"Gradient Boosting Accuracy:\", gb_accuracy)\n",
        "\n",
        "# Classification Reports\n",
        "print(\"Random Forest Classification Report:\")\n",
        "print(classification_report(y_test, rf_pred, target_names=label_encoder.classes_))\n",
        "\n",
        "print(\"SVM Classification Report:\")\n",
        "print(classification_report(y_test, svm_pred, target_names=label_encoder.classes_))\n",
        "\n",
        "print(\"Gradient Boosting Classification Report:\")\n",
        "print(classification_report(y_test, gb_pred, target_names=label_encoder.classes_))\n"
      ],
      "metadata": {
        "colab": {
          "base_uri": "https://localhost:8080/"
        },
        "id": "jjA3pTqaFTnd",
        "outputId": "62a05fa9-b749-4ea4-ffa8-8e199e7484a0"
      },
      "execution_count": 42,
      "outputs": [
        {
          "output_type": "stream",
          "name": "stdout",
          "text": [
            "Random Forest Accuracy: 0.9978230929850282\n",
            "SVM Accuracy: 0.9976898129637034\n",
            "Gradient Boosting Accuracy: 0.9971122662046292\n",
            "Random Forest Classification Report:\n",
            "              precision    recall  f1-score   support\n",
            "\n",
            "      benign       1.00      1.00      1.00     69148\n",
            "   malicious       1.00      1.00      1.00     20888\n",
            "\n",
            "    accuracy                           1.00     90036\n",
            "   macro avg       1.00      1.00      1.00     90036\n",
            "weighted avg       1.00      1.00      1.00     90036\n",
            "\n",
            "SVM Classification Report:\n",
            "              precision    recall  f1-score   support\n",
            "\n",
            "      benign       1.00      1.00      1.00     69148\n",
            "   malicious       1.00      0.99      1.00     20888\n",
            "\n",
            "    accuracy                           1.00     90036\n",
            "   macro avg       1.00      1.00      1.00     90036\n",
            "weighted avg       1.00      1.00      1.00     90036\n",
            "\n",
            "Gradient Boosting Classification Report:\n",
            "              precision    recall  f1-score   support\n",
            "\n",
            "      benign       1.00      1.00      1.00     69148\n",
            "   malicious       0.99      0.99      0.99     20888\n",
            "\n",
            "    accuracy                           1.00     90036\n",
            "   macro avg       1.00      1.00      1.00     90036\n",
            "weighted avg       1.00      1.00      1.00     90036\n",
            "\n"
          ]
        }
      ]
    },
    {
      "cell_type": "code",
      "source": [
        "# Save the models and TF-IDF vectorizer\n",
        "joblib.dump(rf_model, 'model/random_forest_model.pkl')\n",
        "joblib.dump(svm_model, 'model/svm_model.pkl')\n",
        "joblib.dump(gb_model, 'model/gradient_boosting_model.pkl')\n",
        "joblib.dump(vectorizer, 'model/tfidf_vectorizer.pkl')\n",
        "print(\"Models and vectorizer saved to disk.\")\n"
      ],
      "metadata": {
        "colab": {
          "base_uri": "https://localhost:8080/"
        },
        "id": "3gjT0FU7Ff0m",
        "outputId": "6063866e-6fc4-405b-ba31-7cf5cf4e6c67"
      },
      "execution_count": 43,
      "outputs": [
        {
          "output_type": "stream",
          "name": "stdout",
          "text": [
            "Models and vectorizer saved to disk.\n"
          ]
        }
      ]
    }
  ]
}